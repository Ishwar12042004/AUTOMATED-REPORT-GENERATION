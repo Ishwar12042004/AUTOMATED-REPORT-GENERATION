{
 "cells": [
  {
   "cell_type": "code",
   "execution_count": null,
   "id": "78bf87b0-bbf5-4747-abc6-533cb54fd532",
   "metadata": {},
   "outputs": [],
   "source": [
    "import pandas as pd\n",
    "from fpdf import FPDF\n",
    "import matplotlib.pyplot as plt\n",
    "\n",
    "# Load the data\n",
    "file_path = \"data.csv\"\n",
    "data = pd.read_csv(file_path)\n",
    "print(data.head())\n",
    "\n",
    "# Analyze the data\n",
    "summary = data.describe()\n",
    "print(summary)\n",
    "\n",
    "# Generate PDF\n",
    "class pdfreport(FPDF):\n",
    "    def header(self):\n",
    "        self.set_font('Arial','B',12)\n",
    "        self.cell(0,10,\"Automated data analysis report\",border=0,ln=1,align='c')\n",
    "\n",
    "    def chapter_title(self,title):\n",
    "        self.set_font('Arial','B',12)\n",
    "        self.cell(0,10,title,ln=1,border=0)\n",
    "        self.ln(10)\n",
    "\n",
    "    def chapter_body(self,body):\n",
    "        self.set_font('Arial','',12)\n",
    "        self.multi_cell(0,10,body)\n",
    "        self.ln()\n",
    "\n",
    "pdf = pdfreport()\n",
    "pdf.add_page()\n",
    "pdf.chapter_title('Summary Statistics')\n",
    "pdf.chapter_body(summary.to_string())\n",
    "pdf.output('report.pdf')\n",
    "\n",
    "# Create the chart\n",
    "data['Pulse'].value_counts().plot(kind='bar')\n",
    "plt.title('Example Bar Chart')\n",
    "plt.savefig('chart.png')\n",
    "\n",
    "# Include the chart in the PDF\n",
    "pdf.image('chart.png', x=10, y=60, w=100)"
   ]
  }
 ],
 "metadata": {
  "kernelspec": {
   "display_name": "Python 3 (ipykernel)",
   "language": "python",
   "name": "python3"
  },
  "language_info": {
   "codemirror_mode": {
    "name": "ipython",
    "version": 3
   },
   "file_extension": ".py",
   "mimetype": "text/x-python",
   "name": "python",
   "nbconvert_exporter": "python",
   "pygments_lexer": "ipython3",
   "version": "3.12.5"
  }
 },
 "nbformat": 4,
 "nbformat_minor": 5
}
